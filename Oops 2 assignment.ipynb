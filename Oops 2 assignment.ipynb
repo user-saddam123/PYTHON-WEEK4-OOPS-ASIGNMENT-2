{
 "cells": [
  {
   "cell_type": "markdown",
   "id": "9258a922-9e0f-42e7-ba33-22f2b9b81336",
   "metadata": {},
   "source": [
    "OOPS ASSIGNMENT 2 FOR PW SKILLS ACEDMY BY-SADDAM ANSARI"
   ]
  },
  {
   "cell_type": "code",
   "execution_count": null,
   "id": "85444e68-1914-4169-92b0-a6ecd431917e",
   "metadata": {},
   "outputs": [],
   "source": []
  },
  {
   "cell_type": "markdown",
   "id": "3196ce31-4ded-424b-856b-b7ac3ab61694",
   "metadata": {},
   "source": [
    "Q1. What is Abstraction in OOps? Explain with an example."
   ]
  },
  {
   "cell_type": "markdown",
   "id": "0b2cffd2-2f50-4645-b611-68596675cdc0",
   "metadata": {},
   "source": [
    "Abstraction is a fundamental principle program , that is hidding the implementation details from the user only the highlited set of service provided to the usser."
   ]
  },
  {
   "cell_type": "code",
   "execution_count": 2,
   "id": "3fd01197-8757-421c-af00-57136fdf214c",
   "metadata": {},
   "outputs": [],
   "source": [
    "import abc\n",
    "\n",
    "class pwskills:\n",
    "    @abc.abstractclassmethod\n",
    "    \n",
    "    def student_details(self):\n",
    "        pass\n",
    "    \n",
    "    @abc.abstractmethod\n",
    "    def student_assign(self):\n",
    "        pass\n",
    "    \n",
    "    @abc.abstractmethod\n",
    "    def student_marks(self):\n",
    "        pass"
   ]
  },
  {
   "cell_type": "code",
   "execution_count": 3,
   "id": "d290b66b-269d-41d6-b03a-c131e23bec43",
   "metadata": {},
   "outputs": [],
   "source": [
    "class student_details(pwskills):\n",
    "    \n",
    "    def student_details(self):\n",
    "        return \"this is a math for taking students details\"\n",
    "    def student_assignment(self):\n",
    "        return \"this is a math for assign details for a pasticular students\"\n",
    "    "
   ]
  },
  {
   "cell_type": "code",
   "execution_count": 4,
   "id": "fc31011b-1ff4-4286-888b-dde48375b8de",
   "metadata": {},
   "outputs": [],
   "source": [
    "class data_science_masters(pwskills):\n",
    "    \n",
    "    def students_details(self):\n",
    "        return \"this will return a student details for a data science masters\"\n",
    "    \n",
    "    def students_assignment(self):\n",
    "        return\"this will give you a details for assignment a data science masters program\"\n",
    "        "
   ]
  },
  {
   "cell_type": "code",
   "execution_count": 5,
   "id": "8fc3255e-90b8-4c9b-94c7-5787b8055131",
   "metadata": {},
   "outputs": [
    {
     "data": {
      "text/plain": [
       "'this will return a student details for a data science masters'"
      ]
     },
     "execution_count": 5,
     "metadata": {},
     "output_type": "execute_result"
    }
   ],
   "source": [
    "dsm= data_science_masters()\n",
    "dsm.students_details()"
   ]
  },
  {
   "cell_type": "code",
   "execution_count": 6,
   "id": "dc908d83-bce4-41ce-802d-d65d6a3826ab",
   "metadata": {},
   "outputs": [
    {
     "data": {
      "text/plain": [
       "'this is a math for taking students details'"
      ]
     },
     "execution_count": 6,
     "metadata": {},
     "output_type": "execute_result"
    }
   ],
   "source": [
    "sd=student_details()\n",
    "sd.student_details()"
   ]
  },
  {
   "cell_type": "code",
   "execution_count": null,
   "id": "5b16b9b0-d4ae-4428-be46-4fa24ca408c2",
   "metadata": {},
   "outputs": [],
   "source": []
  },
  {
   "cell_type": "markdown",
   "id": "a83cc76b-7d2e-453e-907b-744d72fce095",
   "metadata": {},
   "source": [
    "Q2. Differentiate between Abstraction and Encapsulation. Explain with an example."
   ]
  },
  {
   "cell_type": "markdown",
   "id": "d9ef5553-a010-411b-866a-f1087941c78f",
   "metadata": {},
   "source": [
    "Abstraction and encapsulation are both important concepts in object-oriented programming (OOP), but they serve different purposes and have distinct roles within the design and implementation of classes and objects.\n",
    "\n"
   ]
  },
  {
   "cell_type": "code",
   "execution_count": 7,
   "id": "a7b3f28a-c138-4946-950a-6ed27d770b2c",
   "metadata": {},
   "outputs": [],
   "source": [
    "#Abstractiomn"
   ]
  },
  {
   "cell_type": "code",
   "execution_count": 13,
   "id": "f91b77a4-ea6b-4ca6-af63-8fb75a9a6351",
   "metadata": {},
   "outputs": [],
   "source": [
    "import abc\n",
    "\n",
    "class Shape:\n",
    "    \n",
    "    @abc.abstractmethod\n",
    "    def draw(self):\n",
    "        pass\n",
    "\n",
    "class Circle(Shape):\n",
    "    def draw(self):\n",
    "        print(\"Drawing circle...\")\n",
    "\n"
   ]
  },
  {
   "cell_type": "code",
   "execution_count": 14,
   "id": "50c42142-364e-4bf3-9d71-c996110249aa",
   "metadata": {},
   "outputs": [
    {
     "name": "stdout",
     "output_type": "stream",
     "text": [
      "Drawing circle...\n"
     ]
    }
   ],
   "source": [
    "my_circle = Circle()\n",
    "my_circle.draw() "
   ]
  },
  {
   "cell_type": "code",
   "execution_count": 15,
   "id": "c94a11fa-9c70-49ff-868f-91b9e9a92efb",
   "metadata": {},
   "outputs": [],
   "source": [
    "#encapsulation"
   ]
  },
  {
   "cell_type": "code",
   "execution_count": 16,
   "id": "a372d83b-23ae-4d68-86ad-f2dcb943ace5",
   "metadata": {},
   "outputs": [],
   "source": [
    "class car :\n",
    "    def __init__(self , year, make, model,speed):\n",
    "        \n",
    "        self.__year = year\n",
    "        self.__make = make\n",
    "        self.__model = model\n",
    "        self.__speed = 0\n",
    "        \n",
    "        \n",
    "    def set_speed(self , speed):\n",
    "        self._speed = 0 if speed < 0 else speed\n",
    "    def get_speed(self) :\n",
    "        return self.__speed"
   ]
  },
  {
   "cell_type": "code",
   "execution_count": 17,
   "id": "2b5538a8-98ae-4fb5-9dea-418f3a60ed8d",
   "metadata": {},
   "outputs": [],
   "source": [
    "c =  car(2023,'totota','iniva',12)"
   ]
  },
  {
   "cell_type": "code",
   "execution_count": 18,
   "id": "fa4e1b1c-b542-485c-bfed-9ebd7f2296ab",
   "metadata": {},
   "outputs": [
    {
     "data": {
      "text/plain": [
       "2023"
      ]
     },
     "execution_count": 18,
     "metadata": {},
     "output_type": "execute_result"
    }
   ],
   "source": [
    "c._car__year"
   ]
  },
  {
   "cell_type": "code",
   "execution_count": null,
   "id": "d82aa62a-82e4-4000-99ae-52df6043d99c",
   "metadata": {},
   "outputs": [],
   "source": []
  },
  {
   "cell_type": "markdown",
   "id": "691f950e-2073-4914-a966-fe976940a475",
   "metadata": {},
   "source": [
    "Q3. What is abc module in python? Why is it used?"
   ]
  },
  {
   "cell_type": "code",
   "execution_count": null,
   "id": "053a26ad-c21a-4e08-be1b-ba9f5e896f10",
   "metadata": {},
   "outputs": [],
   "source": []
  }
 ],
 "metadata": {
  "kernelspec": {
   "display_name": "Python 3 (ipykernel)",
   "language": "python",
   "name": "python3"
  },
  "language_info": {
   "codemirror_mode": {
    "name": "ipython",
    "version": 3
   },
   "file_extension": ".py",
   "mimetype": "text/x-python",
   "name": "python",
   "nbconvert_exporter": "python",
   "pygments_lexer": "ipython3",
   "version": "3.10.8"
  }
 },
 "nbformat": 4,
 "nbformat_minor": 5
}
